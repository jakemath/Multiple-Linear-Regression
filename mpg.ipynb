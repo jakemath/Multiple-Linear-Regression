{
 "cells": [
  {
   "cell_type": "code",
   "execution_count": 983,
   "metadata": {
    "collapsed": false,
    "deletable": true,
    "editable": true
   },
   "outputs": [],
   "source": [
    "import pandas as pd\n",
    "import numpy as np\n",
    "import sklearn.preprocessing as encode\n",
    "import matplotlib.pyplot as plt\n",
    "%matplotlib inline"
   ]
  },
  {
   "cell_type": "code",
   "execution_count": 984,
   "metadata": {
    "collapsed": false
   },
   "outputs": [
    {
     "data": {
      "text/html": [
       "<div>\n",
       "<style>\n",
       "    .dataframe thead tr:only-child th {\n",
       "        text-align: right;\n",
       "    }\n",
       "\n",
       "    .dataframe thead th {\n",
       "        text-align: left;\n",
       "    }\n",
       "\n",
       "    .dataframe tbody tr th {\n",
       "        vertical-align: top;\n",
       "    }\n",
       "</style>\n",
       "<table border=\"1\" class=\"dataframe\">\n",
       "  <thead>\n",
       "    <tr style=\"text-align: right;\">\n",
       "      <th></th>\n",
       "      <th>car name</th>\n",
       "      <th>mpg</th>\n",
       "      <th>cylinders</th>\n",
       "      <th>displacement</th>\n",
       "      <th>horsepower</th>\n",
       "      <th>weight</th>\n",
       "      <th>acceleration</th>\n",
       "      <th>model year</th>\n",
       "      <th>origin</th>\n",
       "    </tr>\n",
       "  </thead>\n",
       "  <tbody>\n",
       "    <tr>\n",
       "      <th>0</th>\n",
       "      <td>chevrolet chevelle malibu</td>\n",
       "      <td>18.0</td>\n",
       "      <td>8</td>\n",
       "      <td>307.0</td>\n",
       "      <td>130.0</td>\n",
       "      <td>3504.</td>\n",
       "      <td>12.0</td>\n",
       "      <td>70</td>\n",
       "      <td>1</td>\n",
       "    </tr>\n",
       "    <tr>\n",
       "      <th>1</th>\n",
       "      <td>buick skylark 320</td>\n",
       "      <td>15.0</td>\n",
       "      <td>8</td>\n",
       "      <td>350.0</td>\n",
       "      <td>165.0</td>\n",
       "      <td>3693.</td>\n",
       "      <td>11.5</td>\n",
       "      <td>70</td>\n",
       "      <td>1</td>\n",
       "    </tr>\n",
       "    <tr>\n",
       "      <th>2</th>\n",
       "      <td>plymouth satellite</td>\n",
       "      <td>18.0</td>\n",
       "      <td>8</td>\n",
       "      <td>318.0</td>\n",
       "      <td>150.0</td>\n",
       "      <td>3436.</td>\n",
       "      <td>11.0</td>\n",
       "      <td>70</td>\n",
       "      <td>1</td>\n",
       "    </tr>\n",
       "    <tr>\n",
       "      <th>3</th>\n",
       "      <td>amc rebel sst</td>\n",
       "      <td>16.0</td>\n",
       "      <td>8</td>\n",
       "      <td>304.0</td>\n",
       "      <td>150.0</td>\n",
       "      <td>3433.</td>\n",
       "      <td>12.0</td>\n",
       "      <td>70</td>\n",
       "      <td>1</td>\n",
       "    </tr>\n",
       "    <tr>\n",
       "      <th>4</th>\n",
       "      <td>ford torino</td>\n",
       "      <td>17.0</td>\n",
       "      <td>8</td>\n",
       "      <td>302.0</td>\n",
       "      <td>140.0</td>\n",
       "      <td>3449.</td>\n",
       "      <td>10.5</td>\n",
       "      <td>70</td>\n",
       "      <td>1</td>\n",
       "    </tr>\n",
       "  </tbody>\n",
       "</table>\n",
       "</div>"
      ],
      "text/plain": [
       "                    car name   mpg cylinders displacement horsepower weight  \\\n",
       "0  chevrolet chevelle malibu  18.0         8        307.0      130.0  3504.   \n",
       "1          buick skylark 320  15.0         8        350.0      165.0  3693.   \n",
       "2         plymouth satellite  18.0         8        318.0      150.0  3436.   \n",
       "3              amc rebel sst  16.0         8        304.0      150.0  3433.   \n",
       "4                ford torino  17.0         8        302.0      140.0  3449.   \n",
       "\n",
       "  acceleration model year origin  \n",
       "0         12.0         70      1  \n",
       "1         11.5         70      1  \n",
       "2         11.0         70      1  \n",
       "3         12.0         70      1  \n",
       "4         10.5         70      1  "
      ]
     },
     "execution_count": 984,
     "metadata": {},
     "output_type": "execute_result"
    }
   ],
   "source": [
    "# Read data and split columns\n",
    "df = pd.read_table('auto-mpg.data', header=None) \n",
    "df.columns = ['one','car name']\n",
    "df[['mpg','cylinders','displacement',\n",
    "    'horsepower','weight','acceleration',\n",
    "    'model year','origin']] = df['one'].str.split(expand=True)\n",
    "df = df.drop(['one'],axis=1)\n",
    "df.head()"
   ]
  },
  {
   "cell_type": "code",
   "execution_count": 985,
   "metadata": {
    "collapsed": false
   },
   "outputs": [
    {
     "data": {
      "text/html": [
       "<div>\n",
       "<style>\n",
       "    .dataframe thead tr:only-child th {\n",
       "        text-align: right;\n",
       "    }\n",
       "\n",
       "    .dataframe thead th {\n",
       "        text-align: left;\n",
       "    }\n",
       "\n",
       "    .dataframe tbody tr th {\n",
       "        vertical-align: top;\n",
       "    }\n",
       "</style>\n",
       "<table border=\"1\" class=\"dataframe\">\n",
       "  <thead>\n",
       "    <tr style=\"text-align: right;\">\n",
       "      <th></th>\n",
       "      <th>car name</th>\n",
       "      <th>mpg</th>\n",
       "      <th>cylinders</th>\n",
       "      <th>displacement</th>\n",
       "      <th>horsepower</th>\n",
       "      <th>weight</th>\n",
       "      <th>acceleration</th>\n",
       "      <th>model year</th>\n",
       "      <th>origin</th>\n",
       "    </tr>\n",
       "  </thead>\n",
       "  <tbody>\n",
       "    <tr>\n",
       "      <th>0</th>\n",
       "      <td>chevrolet chevelle malibu</td>\n",
       "      <td>18.0</td>\n",
       "      <td>8</td>\n",
       "      <td>307.0</td>\n",
       "      <td>130.0</td>\n",
       "      <td>3504.0</td>\n",
       "      <td>12.0</td>\n",
       "      <td>70</td>\n",
       "      <td>1</td>\n",
       "    </tr>\n",
       "    <tr>\n",
       "      <th>1</th>\n",
       "      <td>buick skylark 320</td>\n",
       "      <td>15.0</td>\n",
       "      <td>8</td>\n",
       "      <td>350.0</td>\n",
       "      <td>165.0</td>\n",
       "      <td>3693.0</td>\n",
       "      <td>11.5</td>\n",
       "      <td>70</td>\n",
       "      <td>1</td>\n",
       "    </tr>\n",
       "    <tr>\n",
       "      <th>2</th>\n",
       "      <td>plymouth satellite</td>\n",
       "      <td>18.0</td>\n",
       "      <td>8</td>\n",
       "      <td>318.0</td>\n",
       "      <td>150.0</td>\n",
       "      <td>3436.0</td>\n",
       "      <td>11.0</td>\n",
       "      <td>70</td>\n",
       "      <td>1</td>\n",
       "    </tr>\n",
       "    <tr>\n",
       "      <th>3</th>\n",
       "      <td>amc rebel sst</td>\n",
       "      <td>16.0</td>\n",
       "      <td>8</td>\n",
       "      <td>304.0</td>\n",
       "      <td>150.0</td>\n",
       "      <td>3433.0</td>\n",
       "      <td>12.0</td>\n",
       "      <td>70</td>\n",
       "      <td>1</td>\n",
       "    </tr>\n",
       "    <tr>\n",
       "      <th>4</th>\n",
       "      <td>ford torino</td>\n",
       "      <td>17.0</td>\n",
       "      <td>8</td>\n",
       "      <td>302.0</td>\n",
       "      <td>140.0</td>\n",
       "      <td>3449.0</td>\n",
       "      <td>10.5</td>\n",
       "      <td>70</td>\n",
       "      <td>1</td>\n",
       "    </tr>\n",
       "  </tbody>\n",
       "</table>\n",
       "</div>"
      ],
      "text/plain": [
       "                    car name   mpg cylinders displacement horsepower  weight  \\\n",
       "0  chevrolet chevelle malibu  18.0         8        307.0      130.0  3504.0   \n",
       "1          buick skylark 320  15.0         8        350.0      165.0  3693.0   \n",
       "2         plymouth satellite  18.0         8        318.0      150.0  3436.0   \n",
       "3              amc rebel sst  16.0         8        304.0      150.0  3433.0   \n",
       "4                ford torino  17.0         8        302.0      140.0  3449.0   \n",
       "\n",
       "  acceleration model year origin  \n",
       "0         12.0         70      1  \n",
       "1         11.5         70      1  \n",
       "2         11.0         70      1  \n",
       "3         12.0         70      1  \n",
       "4         10.5         70      1  "
      ]
     },
     "execution_count": 985,
     "metadata": {},
     "output_type": "execute_result"
    }
   ],
   "source": [
    "# Add 0 digit to weight column\n",
    "df['weight'] = df['weight'].apply(lambda x : str(x) + '0')\n",
    "df.head()"
   ]
  },
  {
   "cell_type": "code",
   "execution_count": 986,
   "metadata": {
    "collapsed": false
   },
   "outputs": [
    {
     "data": {
      "text/html": [
       "<div>\n",
       "<style>\n",
       "    .dataframe thead tr:only-child th {\n",
       "        text-align: right;\n",
       "    }\n",
       "\n",
       "    .dataframe thead th {\n",
       "        text-align: left;\n",
       "    }\n",
       "\n",
       "    .dataframe tbody tr th {\n",
       "        vertical-align: top;\n",
       "    }\n",
       "</style>\n",
       "<table border=\"1\" class=\"dataframe\">\n",
       "  <thead>\n",
       "    <tr style=\"text-align: right;\">\n",
       "      <th></th>\n",
       "      <th>car name</th>\n",
       "      <th>mpg</th>\n",
       "      <th>cylinders</th>\n",
       "      <th>displacement</th>\n",
       "      <th>horsepower</th>\n",
       "      <th>weight</th>\n",
       "      <th>acceleration</th>\n",
       "      <th>model year</th>\n",
       "      <th>origin</th>\n",
       "    </tr>\n",
       "  </thead>\n",
       "  <tbody>\n",
       "    <tr>\n",
       "      <th>0</th>\n",
       "      <td>48</td>\n",
       "      <td>0.239362</td>\n",
       "      <td>8</td>\n",
       "      <td>0.617571</td>\n",
       "      <td>0.456522</td>\n",
       "      <td>0.070726</td>\n",
       "      <td>0.238095</td>\n",
       "      <td>70</td>\n",
       "      <td>1</td>\n",
       "    </tr>\n",
       "    <tr>\n",
       "      <th>1</th>\n",
       "      <td>35</td>\n",
       "      <td>0.159574</td>\n",
       "      <td>8</td>\n",
       "      <td>0.728682</td>\n",
       "      <td>0.646739</td>\n",
       "      <td>0.077795</td>\n",
       "      <td>0.208333</td>\n",
       "      <td>70</td>\n",
       "      <td>1</td>\n",
       "    </tr>\n",
       "    <tr>\n",
       "      <th>2</th>\n",
       "      <td>229</td>\n",
       "      <td>0.239362</td>\n",
       "      <td>8</td>\n",
       "      <td>0.645995</td>\n",
       "      <td>0.565217</td>\n",
       "      <td>0.068183</td>\n",
       "      <td>0.178571</td>\n",
       "      <td>70</td>\n",
       "      <td>1</td>\n",
       "    </tr>\n",
       "    <tr>\n",
       "      <th>3</th>\n",
       "      <td>13</td>\n",
       "      <td>0.186170</td>\n",
       "      <td>8</td>\n",
       "      <td>0.609819</td>\n",
       "      <td>0.565217</td>\n",
       "      <td>0.068070</td>\n",
       "      <td>0.238095</td>\n",
       "      <td>70</td>\n",
       "      <td>1</td>\n",
       "    </tr>\n",
       "    <tr>\n",
       "      <th>4</th>\n",
       "      <td>159</td>\n",
       "      <td>0.212766</td>\n",
       "      <td>8</td>\n",
       "      <td>0.604651</td>\n",
       "      <td>0.510870</td>\n",
       "      <td>0.068669</td>\n",
       "      <td>0.148810</td>\n",
       "      <td>70</td>\n",
       "      <td>1</td>\n",
       "    </tr>\n",
       "  </tbody>\n",
       "</table>\n",
       "</div>"
      ],
      "text/plain": [
       "   car name       mpg cylinders  displacement  horsepower    weight  \\\n",
       "0        48  0.239362         8      0.617571    0.456522  0.070726   \n",
       "1        35  0.159574         8      0.728682    0.646739  0.077795   \n",
       "2       229  0.239362         8      0.645995    0.565217  0.068183   \n",
       "3        13  0.186170         8      0.609819    0.565217  0.068070   \n",
       "4       159  0.212766         8      0.604651    0.510870  0.068669   \n",
       "\n",
       "   acceleration model year origin  \n",
       "0      0.238095         70      1  \n",
       "1      0.208333         70      1  \n",
       "2      0.178571         70      1  \n",
       "3      0.238095         70      1  \n",
       "4      0.148810         70      1  "
      ]
     },
     "execution_count": 986,
     "metadata": {},
     "output_type": "execute_result"
    }
   ],
   "source": [
    "# Clean, encode and normalize data\n",
    "df = df[df['horsepower'] != '?'] # Drop blanks\n",
    "enc = p.LabelEncoder() # Encode car name column\n",
    "enc.fit(df['car name'])\n",
    "df['car name'] = enc.transform(df['car name'])\n",
    "to_norm = ['mpg','displacement','horsepower','weight','acceleration'] # Normalize real-valued columns\n",
    "df[to_norm] = df[to_norm].astype(float)\n",
    "df[to_norm] = df[to_norm].apply(lambda x: (x - x.min()) / (x.max() - x.min()))\n",
    "df.head()"
   ]
  },
  {
   "cell_type": "code",
   "execution_count": 987,
   "metadata": {
    "collapsed": false
   },
   "outputs": [],
   "source": [
    "# Multiple Linear Regression\n",
    "X = df.drop(['mpg'],axis=1).astype(float) # X matrix\n",
    "X['B_0'] = 1 # Append vector of 1's for Beta_0\n",
    "X = X[['B_0','car name','cylinders', # Put Beta_0 column as first\n",
    "       'displacement','horsepower', # column for matrix multiplication\n",
    "       'weight','acceleration',\n",
    "       'model year','origin']].values\n",
    "Y = df['mpg'].values.astype(float) # Y vector"
   ]
  },
  {
   "cell_type": "code",
   "execution_count": 988,
   "metadata": {
    "collapsed": false
   },
   "outputs": [
    {
     "name": "stdout",
     "output_type": "stream",
     "text": [
      "[ -7.17639338e-01   5.71411633e-05  -2.37640875e-02  -7.28198912e-02\n",
      "  -3.77872755e-01  -1.81052231e-01  -1.69011878e-01   1.82244510e-02\n",
      "   4.34973846e-02]\n"
     ]
    }
   ],
   "source": [
    "XTX = np.dot(X.transpose(),X) # X^T*X\n",
    "XTY = np.dot(X.transpose(),Y) # X^T*Y\n",
    "Beta = np.dot(np.linalg.inv(XTX),XTY) # Beta = ((X^T*X)^-1)(X^T*Y)\n",
    "print(Beta)"
   ]
  },
  {
   "cell_type": "code",
   "execution_count": 989,
   "metadata": {
    "collapsed": false,
    "scrolled": true
   },
   "outputs": [
    {
     "name": "stdout",
     "output_type": "stream",
     "text": [
      "R^2 = 0.778866130964\n",
      "Number underestimated: 179, 45.66326530612245%\n",
      "Number overestimated: 213, 54.33673469387755%\n",
      "Number exact: 0, 0.0%\n"
     ]
    }
   ],
   "source": [
    "SSE = 0.0\n",
    "SST = 0.0\n",
    "under = 0\n",
    "over = 0\n",
    "exact = 0\n",
    "predicted = []\n",
    "B_0 = Beta[0]\n",
    "Beta = np.delete(Beta,0)\n",
    "for idx, row in temp.iterrows():\n",
    "    predicted.append(B_0 + np.dot(Beta.transpose(), row.values.astype(float)))\n",
    "    diff = df.loc[idx]['mpg'].astype(float) - predicted[-1]\n",
    "    if diff > 0:\n",
    "        under += 1\n",
    "    elif diff < 0:\n",
    "        over += 1\n",
    "    else:\n",
    "        exact += 1\n",
    "    SSE += diff**2\n",
    "    SST += (df.loc[idx]['mpg'].astype(float) - df['mpg'].mean())**2\n",
    "            \n",
    "SSR = SST - SSE\n",
    "print('R^2 =',SSR/SST)\n",
    "print('Number underestimated: ' + str(under) + ', ' + str(under/len(df)*100) + '%')\n",
    "print('Number overestimated: ' + str(over) + ', ' + str(over/len(df)*100) + '%')\n",
    "print('Number exact: ' + str(exact) + ', ' + str(exact/len(df)*100) + '%')"
   ]
  },
  {
   "cell_type": "code",
   "execution_count": 990,
   "metadata": {
    "collapsed": false
   },
   "outputs": [
    {
     "data": {
      "text/plain": [
       "<matplotlib.legend.Legend at 0x12c2beef0>"
      ]
     },
     "execution_count": 990,
     "metadata": {},
     "output_type": "execute_result"
    },
    {
     "data": {
      "image/png": "[encoded data removed]",
      "text/plain": [
       "<matplotlib.figure.Figure at 0x12c95fe10>"
      ]
     },
     "metadata": {},
     "output_type": "display_data"
    }
   ],
   "source": [
    "# Plot predictions versus actual values\n",
    "plt.scatter(predicted, df['mpg'], label='Predicted vs Actual')\n",
    "plt.legend()"
   ]
  },
  {
   "cell_type": "code",
   "execution_count": 991,
   "metadata": {
    "collapsed": false
   },
   "outputs": [
    {
     "data": {
      "text/plain": [
       "<matplotlib.legend.Legend at 0x12d07f3c8>"
      ]
     },
     "execution_count": 991,
     "metadata": {},
     "output_type": "execute_result"
    },
    {
     "data": {
      "image/png": "[encoded data removed]",
      "text/plain": [
       "<matplotlib.figure.Figure at 0x12d07f940>"
      ]
     },
     "metadata": {},
     "output_type": "display_data"
    }
   ],
   "source": [
    "# Plot residuals for each prediction\n",
    "residuals = df['mpg'] - predicted\n",
    "residuals = (residuals - residuals.mean()) / residuals.std() # Standardize residuals\n",
    "plt.scatter(predicted, residuals, label='Predicted vs Residual')\n",
    "x = np.arange(-0.1,0.9,.05,)\n",
    "plt.plot(x, np.zeros(20), color='orange')\n",
    "plt.legend()"
   ]
  },
  {
   "cell_type": "code",
   "execution_count": null,
   "metadata": {
    "collapsed": true
   },
   "outputs": [],
   "source": []
  }
 ],
 "metadata": {
  "kernelspec": {
   "display_name": "Python 3",
   "language": "python",
   "name": "python3"
  },
  "language_info": {
   "codemirror_mode": {
    "name": "ipython",
    "version": 3
   },
   "file_extension": ".py",
   "mimetype": "text/x-python",
   "name": "python",
   "nbconvert_exporter": "python",
   "pygments_lexer": "ipython3",
   "version": "3.5.2"
  }
 },
 "nbformat": 4,
 "nbformat_minor": 2
}
