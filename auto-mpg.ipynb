{
 "cells": [
  {
   "cell_type": "code",
   "execution_count": 826,
   "metadata": {},
   "outputs": [],
   "source": [
    "import pandas as pd\n",
    "import numpy as np\n",
    "import matplotlib.pyplot as plt\n",
    "%matplotlib inline"
   ]
  },
  {
   "cell_type": "code",
   "execution_count": 827,
   "metadata": {},
   "outputs": [
    {
     "data": {
      "text/html": [
       "<div>\n",
       "<style scoped>\n",
       "    .dataframe tbody tr th:only-of-type {\n",
       "        vertical-align: middle;\n",
       "    }\n",
       "\n",
       "    .dataframe tbody tr th {\n",
       "        vertical-align: top;\n",
       "    }\n",
       "\n",
       "    .dataframe thead th {\n",
       "        text-align: right;\n",
       "    }\n",
       "</style>\n",
       "<table border=\"1\" class=\"dataframe\">\n",
       "  <thead>\n",
       "    <tr style=\"text-align: right;\">\n",
       "      <th></th>\n",
       "      <th>car name</th>\n",
       "      <th>mpg</th>\n",
       "      <th>cylinders</th>\n",
       "      <th>displacement</th>\n",
       "      <th>horsepower</th>\n",
       "      <th>weight</th>\n",
       "      <th>acceleration</th>\n",
       "      <th>model year</th>\n",
       "      <th>origin</th>\n",
       "    </tr>\n",
       "  </thead>\n",
       "  <tbody>\n",
       "    <tr>\n",
       "      <th>0</th>\n",
       "      <td>chevrolet chevelle malibu</td>\n",
       "      <td>18.0</td>\n",
       "      <td>8</td>\n",
       "      <td>307.0</td>\n",
       "      <td>130.0</td>\n",
       "      <td>3504.0</td>\n",
       "      <td>12.0</td>\n",
       "      <td>70</td>\n",
       "      <td>1</td>\n",
       "    </tr>\n",
       "    <tr>\n",
       "      <th>1</th>\n",
       "      <td>buick skylark 320</td>\n",
       "      <td>15.0</td>\n",
       "      <td>8</td>\n",
       "      <td>350.0</td>\n",
       "      <td>165.0</td>\n",
       "      <td>3693.0</td>\n",
       "      <td>11.5</td>\n",
       "      <td>70</td>\n",
       "      <td>1</td>\n",
       "    </tr>\n",
       "    <tr>\n",
       "      <th>2</th>\n",
       "      <td>plymouth satellite</td>\n",
       "      <td>18.0</td>\n",
       "      <td>8</td>\n",
       "      <td>318.0</td>\n",
       "      <td>150.0</td>\n",
       "      <td>3436.0</td>\n",
       "      <td>11.0</td>\n",
       "      <td>70</td>\n",
       "      <td>1</td>\n",
       "    </tr>\n",
       "    <tr>\n",
       "      <th>3</th>\n",
       "      <td>amc rebel sst</td>\n",
       "      <td>16.0</td>\n",
       "      <td>8</td>\n",
       "      <td>304.0</td>\n",
       "      <td>150.0</td>\n",
       "      <td>3433.0</td>\n",
       "      <td>12.0</td>\n",
       "      <td>70</td>\n",
       "      <td>1</td>\n",
       "    </tr>\n",
       "    <tr>\n",
       "      <th>4</th>\n",
       "      <td>ford torino</td>\n",
       "      <td>17.0</td>\n",
       "      <td>8</td>\n",
       "      <td>302.0</td>\n",
       "      <td>140.0</td>\n",
       "      <td>3449.0</td>\n",
       "      <td>10.5</td>\n",
       "      <td>70</td>\n",
       "      <td>1</td>\n",
       "    </tr>\n",
       "  </tbody>\n",
       "</table>\n",
       "</div>"
      ],
      "text/plain": [
       "                    car name   mpg cylinders displacement horsepower  weight  \\\n",
       "0  chevrolet chevelle malibu  18.0         8        307.0      130.0  3504.0   \n",
       "1          buick skylark 320  15.0         8        350.0      165.0  3693.0   \n",
       "2         plymouth satellite  18.0         8        318.0      150.0  3436.0   \n",
       "3              amc rebel sst  16.0         8        304.0      150.0  3433.0   \n",
       "4                ford torino  17.0         8        302.0      140.0  3449.0   \n",
       "\n",
       "  acceleration model year origin  \n",
       "0         12.0         70      1  \n",
       "1         11.5         70      1  \n",
       "2         11.0         70      1  \n",
       "3         12.0         70      1  \n",
       "4         10.5         70      1  "
      ]
     },
     "execution_count": 827,
     "metadata": {},
     "output_type": "execute_result"
    }
   ],
   "source": [
    "# Read data and split columns\n",
    "df = pd.read_table('auto-mpg.data', header=None) \n",
    "df.columns = ['one','car name']\n",
    "df[['mpg','cylinders','displacement','horsepower',\n",
    "    'weight','acceleration','model year','origin']] = df['one'].str.split(expand=True)\n",
    "df = df.drop('one', axis=1)\n",
    "df['weight'] = df['weight'].astype(str) + '0'\n",
    "df.head()"
   ]
  },
  {
   "cell_type": "code",
   "execution_count": 828,
   "metadata": {},
   "outputs": [
    {
     "data": {
      "text/html": [
       "<div>\n",
       "<style scoped>\n",
       "    .dataframe tbody tr th:only-of-type {\n",
       "        vertical-align: middle;\n",
       "    }\n",
       "\n",
       "    .dataframe tbody tr th {\n",
       "        vertical-align: top;\n",
       "    }\n",
       "\n",
       "    .dataframe thead th {\n",
       "        text-align: right;\n",
       "    }\n",
       "</style>\n",
       "<table border=\"1\" class=\"dataframe\">\n",
       "  <thead>\n",
       "    <tr style=\"text-align: right;\">\n",
       "      <th></th>\n",
       "      <th>car name</th>\n",
       "      <th>mpg</th>\n",
       "      <th>cylinders</th>\n",
       "      <th>displacement</th>\n",
       "      <th>horsepower</th>\n",
       "      <th>weight</th>\n",
       "      <th>acceleration</th>\n",
       "      <th>model year</th>\n",
       "      <th>origin</th>\n",
       "    </tr>\n",
       "  </thead>\n",
       "  <tbody>\n",
       "    <tr>\n",
       "      <th>0</th>\n",
       "      <td>48.0</td>\n",
       "      <td>18.0</td>\n",
       "      <td>4.0</td>\n",
       "      <td>307.0</td>\n",
       "      <td>130.0</td>\n",
       "      <td>3504.0</td>\n",
       "      <td>12.0</td>\n",
       "      <td>0.0</td>\n",
       "      <td>1.0</td>\n",
       "    </tr>\n",
       "    <tr>\n",
       "      <th>1</th>\n",
       "      <td>35.0</td>\n",
       "      <td>15.0</td>\n",
       "      <td>4.0</td>\n",
       "      <td>350.0</td>\n",
       "      <td>165.0</td>\n",
       "      <td>3693.0</td>\n",
       "      <td>11.5</td>\n",
       "      <td>0.0</td>\n",
       "      <td>1.0</td>\n",
       "    </tr>\n",
       "    <tr>\n",
       "      <th>2</th>\n",
       "      <td>229.0</td>\n",
       "      <td>18.0</td>\n",
       "      <td>4.0</td>\n",
       "      <td>318.0</td>\n",
       "      <td>150.0</td>\n",
       "      <td>3436.0</td>\n",
       "      <td>11.0</td>\n",
       "      <td>0.0</td>\n",
       "      <td>1.0</td>\n",
       "    </tr>\n",
       "    <tr>\n",
       "      <th>3</th>\n",
       "      <td>13.0</td>\n",
       "      <td>16.0</td>\n",
       "      <td>4.0</td>\n",
       "      <td>304.0</td>\n",
       "      <td>150.0</td>\n",
       "      <td>3433.0</td>\n",
       "      <td>12.0</td>\n",
       "      <td>0.0</td>\n",
       "      <td>1.0</td>\n",
       "    </tr>\n",
       "    <tr>\n",
       "      <th>4</th>\n",
       "      <td>159.0</td>\n",
       "      <td>17.0</td>\n",
       "      <td>4.0</td>\n",
       "      <td>302.0</td>\n",
       "      <td>140.0</td>\n",
       "      <td>3449.0</td>\n",
       "      <td>10.5</td>\n",
       "      <td>0.0</td>\n",
       "      <td>1.0</td>\n",
       "    </tr>\n",
       "  </tbody>\n",
       "</table>\n",
       "</div>"
      ],
      "text/plain": [
       "   car name   mpg  cylinders  displacement  horsepower  weight  acceleration  \\\n",
       "0      48.0  18.0        4.0         307.0       130.0  3504.0          12.0   \n",
       "1      35.0  15.0        4.0         350.0       165.0  3693.0          11.5   \n",
       "2     229.0  18.0        4.0         318.0       150.0  3436.0          11.0   \n",
       "3      13.0  16.0        4.0         304.0       150.0  3433.0          12.0   \n",
       "4     159.0  17.0        4.0         302.0       140.0  3449.0          10.5   \n",
       "\n",
       "   model year  origin  \n",
       "0         0.0     1.0  \n",
       "1         0.0     1.0  \n",
       "2         0.0     1.0  \n",
       "3         0.0     1.0  \n",
       "4         0.0     1.0  "
      ]
     },
     "execution_count": 828,
     "metadata": {},
     "output_type": "execute_result"
    }
   ],
   "source": [
    "# Clean data and encode discrete values\n",
    "df = df[df['horsepower'] != '?'] # Drop na values\n",
    "unique_cars = df['car name'].unique()\n",
    "unique_years = df['model year'].unique()\n",
    "unique_cylinders = df['cylinders'].unique()\n",
    "df['car name'] = df['car name'].map(dict(zip(sorted(unique_cars), range(len(unique_cars)))))\n",
    "df['model year'] = df['model year'].map(dict(zip(sorted(unique_years), range(len(unique_years)))))\n",
    "df['cylinders'] = df['cylinders'].map(dict(zip(sorted(unique_cylinders), range(len(unique_cylinders)))))\n",
    "df = df.astype(float)\n",
    "df.head()"
   ]
  },
  {
   "cell_type": "code",
   "execution_count": 829,
   "metadata": {},
   "outputs": [],
   "source": [
    "# Select sample for training\n",
    "train_set = df.sample(frac=0.7)\n",
    "test_set = df.drop(train_set.index)\n",
    "Y = train_set['mpg'].values\n",
    "X = train_set.drop('mpg', axis=1)\n",
    "X['B_0'] = 1.0 # Append vector of 1's for Beta_0\n",
    "X = X[['B_0', 'car name', 'cylinders', 'displacement', 'horsepower', \n",
    "       'weight', 'acceleration', 'model year', 'origin']].values"
   ]
  },
  {
   "cell_type": "code",
   "execution_count": 830,
   "metadata": {},
   "outputs": [
    {
     "name": "stdout",
     "output_type": "stream",
     "text": [
      "Beta = [ 3.24234899e+01 -5.70977546e-04 -2.07650069e+00  6.05853312e-03\n",
      " -7.70379837e-02 -1.80317020e-04 -2.25046356e-01  6.63416118e-01\n",
      "  1.65682461e+00]\n"
     ]
    }
   ],
   "source": [
    "# Fit train set and obtain Beta coefficients\n",
    "XTX = np.dot(X.transpose(), X) # X^T*X\n",
    "XTY = np.dot(X.transpose(), Y) # X^T*Y\n",
    "Beta = np.dot(np.linalg.inv(XTX), XTY) # Beta = ((X^T*X)^-1)(X^T*Y)\n",
    "print('Beta = {}'.format(Beta))\n",
    "B_0 = Beta[0] \n",
    "Beta = Beta[1:]"
   ]
  },
  {
   "cell_type": "code",
   "execution_count": 831,
   "metadata": {
    "scrolled": true
   },
   "outputs": [
    {
     "name": "stdout",
     "output_type": "stream",
     "text": [
      "Residual statistics:\n",
      "count    118.000000\n",
      "mean      -0.133542\n",
      "std        3.461618\n",
      "min      -11.886462\n",
      "25%       -2.382442\n",
      "50%        0.231172\n",
      "75%        2.369921\n",
      "max        6.951330\n",
      "Name: diff, dtype: float64\n",
      "\n",
      "R^2 = 0.8\n",
      "Number exact (Within 1%): 10, 8.47%\n",
      "Number underestimated: 49, 41.53%\n",
      "Number overestimated: 59, 50.0%\n"
     ]
    }
   ],
   "source": [
    "# Predict test data\n",
    "actual = test_set['mpg']\n",
    "predict_df = test_set.drop('mpg', axis=1)\n",
    "predict_df['predicted'] = predict_df.apply(lambda x: B_0 + np.dot(Beta.transpose(), x.values), axis=1)\n",
    "predict_df['actual'] = actual\n",
    "predict_df['diff'] = predict_df['predicted'] - predict_df['actual']\n",
    "predict_df['pct_diff'] = predict_df['diff'] / predict_df['actual']\n",
    "exact = len(predict_df.loc[abs(predict_df['pct_diff']) <= 0.01])\n",
    "under = len(predict_df.loc[predict_df['pct_diff'] < -0.01])\n",
    "over = len(predict_df.loc[predict_df['pct_diff'] > 0.01])\n",
    "SSE = (predict_df['diff']**2).sum()\n",
    "SST = ((test_set['mpg'] - test_set['mpg'].mean())**2).sum()\n",
    "SSR = SST - SSE # Compute residual sum of squares \n",
    "print('Residual statistics:')\n",
    "print(predict_df['diff'].describe())\n",
    "print('\\nR^2 =', round(SSR/SST, 2)) # R^2 = SSR / SST\n",
    "print('Number exact (Within 1%): {}, {}%'.format(exact, round(100*exact/len(test_set), 2)))\n",
    "print('Number underestimated: {}, {}%'.format(under, round(100*under/len(test_set), 2)))\n",
    "print('Number overestimated: {}, {}%'.format(over, round(100*over/len(test_set), 2)))"
   ]
  },
  {
   "cell_type": "code",
   "execution_count": 832,
   "metadata": {},
   "outputs": [
    {
     "name": "stdout",
     "output_type": "stream",
     "text": [
      "Percent difference statistics:\n",
      "count    118.000000\n",
      "mean       0.015123\n",
      "std        0.137623\n",
      "min       -0.273851\n",
      "25%       -0.080144\n",
      "50%        0.011876\n",
      "75%        0.113596\n",
      "max        0.365859\n",
      "Name: pct_diff, dtype: float64\n"
     ]
    }
   ],
   "source": [
    "print('Percent difference statistics:')\n",
    "print(predict_df['pct_diff'].describe())"
   ]
  },
  {
   "cell_type": "code",
   "execution_count": 833,
   "metadata": {},
   "outputs": [
    {
     "data": {
      "text/plain": [
       "<matplotlib.legend.Legend at 0x1a2217b080>"
      ]
     },
     "execution_count": 833,
     "metadata": {},
     "output_type": "execute_result"
    },
    {
     "data": {
      "image/png": "[encoded data removed]",
      "text/plain": [
       "<Figure size 432x288 with 1 Axes>"
      ]
     },
     "metadata": {
      "needs_background": "light"
     },
     "output_type": "display_data"
    }
   ],
   "source": [
    "# Plot predictions versus actual values. Ideally would like to see points clustered around y = x\n",
    "plt.scatter(predict_df['actual'], predict_df['predicted'], label='Actual vs Predicted')\n",
    "plt.plot(predict_df['actual'], predict_df['actual'], label='Optimal', color='red')\n",
    "plt.legend()"
   ]
  }
 ],
 "metadata": {
  "kernelspec": {
   "display_name": "Python 3",
   "language": "python",
   "name": "python3"
  },
  "language_info": {
   "codemirror_mode": {
    "name": "ipython",
    "version": 3
   },
   "file_extension": ".py",
   "mimetype": "text/x-python",
   "name": "python",
   "nbconvert_exporter": "python",
   "pygments_lexer": "ipython3",
   "version": "3.7.1"
  }
 },
 "nbformat": 4,
 "nbformat_minor": 2
}
